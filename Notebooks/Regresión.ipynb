{
 "cells": [
  {
   "cell_type": "markdown",
   "metadata": {},
   "source": [
    "# 1. Regresión"
   ]
  },
  {
   "cell_type": "markdown",
   "metadata": {},
   "source": [
    "* El problema de regresión consiste en estimar f(x) a partir de un conjunto de pares de datos (x,y).\n",
    "* Partimos de la existencia de una relación lineal entre 2 variables\n",
    "* Nuestro objetivo consiste en estimar los parámetros de la ecuación a partir de datos de muestreo.\n",
    "\n",
    "* **Modelo Lineal simple** ----->  <span style=\"color:blue\"> **Yi =Bo + BiX +Ei** </span>     \n",
    "<span style=\"color:blue\"> **Y:** </span> Variable dependiente (salida).     \n",
    "<span style=\"color:blue\"> **Bo:** </span> Ordenada al origen (valor de y cuando x vale cero).     \n",
    "<span style=\"color:red\"> **+:** </span> Es lo que hace que el modelo sea lineal.    \n",
    "<span style=\"color:blue\"> **Bi:** </span> Pendiente (el cambio en y por cada incremento de una unidad de x).    \n",
    "<span style=\"color:blue\"> **X:** </span> Variable independiente.    \n",
    "<span style=\"color:blue\"> **Ei:** </span> Error.     "
   ]
  },
  {
   "cell_type": "markdown",
   "metadata": {},
   "source": [
    "* **Modelo Lineal multivariado** ----->  <span style=\"color:blue\"> **Yi =Bo + B1X1 + B2X2 + B3X3 +Ei** </span>     \n",
    "<span style=\"color:blue\"> **B1X1, B2X2, B3X3:** </span> Variable cuantitativas. Antes de incluirlas en el modelo se debe hacer una prueba de correlación entre ellas y descartar aquellas cuya correlación sea mayor a |0.7|    "
   ]
  },
  {
   "cell_type": "markdown",
   "metadata": {},
   "source": [
    "* **Supuestos**\n",
    "* Ei ~ N I (0, Q2) \n",
    "* No correlación entre las Xi"
   ]
  },
  {
   "cell_type": "markdown",
   "metadata": {},
   "source": [
    "1) Prueba de **Normalidad**\n",
    "* Test de Shapiro Wilks -> Uso los residuos (infostat)    \n",
    "Ho) no es normal p>0.05  (No rechazp Ho)      \n",
    "Hi) es normal    p<0.05  (rechazo Ho)    \n",
    "* Gráfico QQPlot de los residuos (infostat)   \n",
    "\n",
    "2) Prueba de **Homogeneidad de varianza**    \n",
    "* Gráfico de dispersión (residuos Vs. predichos)->(infostat)   \n",
    "Los puntos deben ser parejos en cantidad y en distancia a cero a cada lado de la recta.   \n",
    "* Cp-Mallows: Indica cuan bueno es que esa variable esté en la regresión.   \n",
    "Cp-Mallows >= cantidad de parámetros\n",
    "\n",
    "3) **Esperanza del Error = 0**    \n",
    "* Es necesario que el error no ejerza ninguna influencia determinante en la explicación del comportamiento de la variable dependiente (Yi). Es decir que el error no presenta ningún sesgo sistemático en ninguna dirección determinada.\n",
    "* Se supone que los errores hacia ambos lados de la recta serán compensados y no afectarán al modelo."
   ]
  },
  {
   "cell_type": "code",
   "execution_count": null,
   "metadata": {},
   "outputs": [],
   "source": []
  },
  {
   "cell_type": "markdown",
   "metadata": {},
   "source": [
    "* **Pruebas de Hipótesis**\n",
    "* Sobre la pendiente, Buscamos rechazar Ho     \n",
    "Ho) Bi = 0      p>0.01 (no rehazo Ho)     \n",
    "Hi) Bi != 0     p<0.01 (rehazo Ho)   "
   ]
  },
  {
   "cell_type": "markdown",
   "metadata": {},
   "source": [
    "* **Método de mínimos cuadrados** ----->  <span style=\"color:blue\"> **Ei = Yobs - ^Y**</span>        \n",
    "<span style=\"color:blue\"> **Ei:** </span> Error.      \n",
    "<span style=\"color:blue\"> **Yobs:** </span> Valor observado.    \n",
    "<span style=\"color:blue\"> **^Y:** </span> Valor estimado por la recta del modelo sea lineal.    \n",
    "\n",
    "* Por medio de este método se busca la relación. Se obtiene la recta mejor ajustada para los datos de interés."
   ]
  },
  {
   "cell_type": "markdown",
   "metadata": {},
   "source": [
    "* **Coeficiente de determinación** ----->  <span style=\"color:blue\">**R2 = 1- SCE / SCT**</span>        \n",
    "<span style=\"color:blue\"> **R2:**</span> Indica el grado de variabilidad de Y que está siendo explicado por X.           \n",
    "<span style=\"color:blue\"> **SCE:** </span> Suma de cuadrados del error.     \n",
    "<span style=\"color:blue\"> **SCT:** </span> Suma de cuadrados total.    \n",
    "<span style=\"color:blue\">**R2 Ajustado:**</span> Penaliza por agregar variables (Xi) que no afectan en el modelo.  "
   ]
  }
 ],
 "metadata": {
  "kernelspec": {
   "display_name": "Python 3",
   "language": "python",
   "name": "python3"
  },
  "language_info": {
   "codemirror_mode": {
    "name": "ipython",
    "version": 3
   },
   "file_extension": ".py",
   "mimetype": "text/x-python",
   "name": "python",
   "nbconvert_exporter": "python",
   "pygments_lexer": "ipython3",
   "version": "3.6.10"
  }
 },
 "nbformat": 4,
 "nbformat_minor": 4
}
